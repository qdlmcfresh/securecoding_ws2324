{
 "cells": [
  {
   "cell_type": "markdown",
   "metadata": {},
   "source": [
    "# Lecture 3.2: Attack on AES with Differential-Power-Analysis (Kocher et al. 1999) using Lascar\n",
    "\n",
    "#### Learning goals\n",
    "- Learn how to apply a DPA attack using Lascar\n",
    "\n",
    "#### References\n",
    "- https://github.com/Ledger-Donjon/lascar"
   ]
  },
  {
   "cell_type": "code",
   "execution_count": 2,
   "metadata": {},
   "outputs": [],
   "source": [
    "%load_ext autoreload\n",
    "%autoreload 2\n",
    "\n",
    "import os\n",
    "import random\n",
    "\n",
    "import numpy as np\n",
    "import plotly.graph_objects as pgo\n",
    "from cwtoolbox import CaptureDevice"
   ]
  },
  {
   "cell_type": "markdown",
   "metadata": {},
   "source": [
    "## Why Lascar?\n",
    "\n",
    "When it comes to \"real\" side-channel analysis the author favours [Lascar](https://github.com/Ledger-Donjon/lascar) with the following reasons:\n",
    "\n",
    "- High performance\n",
    "- Well structured and documented code\n",
    "- Easy start due to good examples\n",
    "- Citations given for the methods of analysis\n",
    "\n",
    "## Main aspects of lascar\n",
    "\n",
    "While lascar's tutorial and the examples provide a comprehensive entry point the main concepts are demonstrated here to make the subsequent analysis understandable."
   ]
  },
  {
   "cell_type": "code",
   "execution_count": 3,
   "metadata": {},
   "outputs": [],
   "source": [
    "import lascar"
   ]
  },
  {
   "cell_type": "markdown",
   "metadata": {},
   "source": [
    "### Container"
   ]
  },
  {
   "cell_type": "code",
   "execution_count": null,
   "metadata": {},
   "outputs": [],
   "source": [
    "import sys\n",
    "print(sys.modules['lascar.container'].__doc__)"
   ]
  },
  {
   "cell_type": "markdown",
   "metadata": {},
   "source": [
    "We will mainly use the following container:"
   ]
  },
  {
   "cell_type": "code",
   "execution_count": null,
   "metadata": {},
   "outputs": [],
   "source": [
    "lascar.TraceBatchContainer"
   ]
  },
  {
   "cell_type": "markdown",
   "metadata": {},
   "source": [
    "As described [here](https://github.com/Ledger-Donjon/lascar/blob/master/tutorial/01-discovering-containers.py) it takes to items:\n",
    "\n",
    "\n",
    "A side-channel trace (Trace in lascar), is a couple of two items:\n",
    "- The first item is \"leakage\" and represents the side-channel observable\n",
    "- The second item is \"value\" and represents the handled values during the observation of \"leakage\".\n",
    "The only restriction here is that \"leakage\" and \"data\" must be numpy.arrays of any shape.\n",
    "trace = (leakage, value) where leakage and value are numpy.arrays\n",
    "The __str__ method of Trace displays the shape and dtype for both leakage and value."
   ]
  },
  {
   "cell_type": "markdown",
   "metadata": {},
   "source": [
    "### Engine\n",
    "\n",
    "The most important concept is `Engine`. It performs the actual analysis."
   ]
  },
  {
   "cell_type": "code",
   "execution_count": null,
   "metadata": {},
   "outputs": [],
   "source": [
    "print(lascar.Engine.__doc__)"
   ]
  },
  {
   "cell_type": "markdown",
   "metadata": {},
   "source": [
    "One example is `DpaEngine`."
   ]
  },
  {
   "cell_type": "code",
   "execution_count": null,
   "metadata": {},
   "outputs": [],
   "source": [
    "print(lascar.DpaEngine.__doc__)"
   ]
  },
  {
   "cell_type": "markdown",
   "metadata": {},
   "source": [
    "### OutputMethod\n",
    "\n",
    "The data which is produced by an Engine is passed to an `OutputMethod.`"
   ]
  },
  {
   "cell_type": "code",
   "execution_count": 23,
   "metadata": {},
   "outputs": [
    {
     "name": "stdout",
     "output_type": "stream",
     "text": [
      "\n",
      "    OutputMethod is an virtual class.\n",
      "    Its role is to set up the strategy for outputing results computed by engines.\n",
      "\n",
      "    The Session registers an OutputMethod.\n",
      "    The OuputMethod tracks engines, and, at each output_step, it request results to them.\n",
      "\n",
      "    The children inherating from OutputManager implements how to process these results, and how to deliver them to the user.\n",
      "    \n"
     ]
    }
   ],
   "source": [
    "print(lascar.OutputMethod.__doc__)"
   ]
  },
  {
   "cell_type": "markdown",
   "metadata": {},
   "source": [
    "### Session\n",
    "\n",
    "The final ingredient to perform an analysis is a `Session`."
   ]
  },
  {
   "cell_type": "code",
   "execution_count": 22,
   "metadata": {},
   "outputs": [
    {
     "name": "stdout",
     "output_type": "stream",
     "text": [
      "\n",
      "    This class is leading side-channel operation in lascar.\n",
      "\n",
      "    a :class:`lascar.session.Session` object's role is to:\n",
      "\n",
      "    - get batch of side channel traces from a Container, 'container'\n",
      "    - distribute the batchs to the registered engines. 'engines'\n",
      "    - manage outputs thanks to 'output_method', 'output_step'\n",
      "        \n",
      "    :param container: the container that will be read during the session. Only\n",
      "        mandatory argument for constructor.\n",
      "    :param engine: lascar engine to be registered by the Session\n",
      "    :param engines: list of lascar engines to be registered by the Session\n",
      "    :param output_method: specify the output method: how will the results from\n",
      "        the engine will be manipulated. see lascar/output for more info.\n",
      "    :param output_steps: specify when the Session will ask its engines to\n",
      "        compute results.\n",
      "    :param name: name given for the Session.\n",
      "    :param progressbar: Will the Session display a progressbar during its\n",
      "        process.\n",
      "    \n"
     ]
    }
   ],
   "source": [
    "print(lascar.Session.__doc__)"
   ]
  },
  {
   "cell_type": "markdown",
   "metadata": {},
   "source": [
    "### Note\n",
    "\n",
    "Lascar uses `numba.jit` to speed up calculations.\n",
    "This \"costs\" an initial effort when compiling the functions but provides awesome speed afterwards.\n",
    "Jit is enabled by default and can be configured for some engines."
   ]
  },
  {
   "cell_type": "markdown",
   "metadata": {},
   "source": [
    "<div style=\"border: 3px solid plum; border-radius: 5px; padding: 5px; width: calc(100% - 20px);\">\n",
    "<div class=\"h2\" style=\"font-variant: all-small-caps;\">Exercise 1</div>\n",
    "\n",
    "Perform a DPA attack on [sbox_lookup.c](sbox_lookup.c) on the LSB of the output of the first SBox lookup using Lascar. Use\n",
    "- `TraceBatchContainer`\n",
    "- `DpaEngine`\n",
    "- `ConsoleOutputMethod`\n",
    "\n",
    "</div>"
   ]
  },
  {
   "cell_type": "markdown",
   "metadata": {},
   "source": [
    "<div style=\"border: 3px solid plum; border-radius: 5px; padding: 5px; width: calc(100% - 20px);\">\n",
    "<div class=\"h2\" style=\"font-variant: all-small-caps;\">Exercise 2 (optional)</div>\n",
    "\n",
    "Perform the attack using two output modes together: `ConsoleOutputMode` and `MatplotlibOutputMethod`.\n",
    "\n",
    "</div>"
   ]
  },
  {
   "cell_type": "markdown",
   "metadata": {},
   "source": [
    "<div style=\"border: 3px solid plum; border-radius: 5px; padding: 5px; width: calc(100% - 20px);\">\n",
    "<div class=\"h2\" style=\"font-variant: all-small-caps;\">Exercise 3 (optional)</div>\n",
    "\n",
    "Perform a full DPA attack (i.e. reveal all key bytes) using Lascar.\n",
    "\n",
    "Hints:\n",
    "- Multiple Engines are needed. One for each selection function.\n",
    "- 16 different selection functions are needed. Create a function that returns a selection function.\n",
    "\n",
    "</div>"
   ]
  },
  {
   "cell_type": "code",
   "execution_count": 4,
   "metadata": {},
   "outputs": [
    {
     "name": "stdout",
     "output_type": "stream",
     "text": [
      "XMEGA Programming flash...\n",
      "XMEGA Reading flash...\n",
      "Verified flash OK, 2513 bytes\n"
     ]
    },
    {
     "name": "stderr",
     "output_type": "stream",
     "text": [
      "100%|██████████| 1000/1000 [00:08<00:00, 116.11it/s]\n"
     ]
    }
   ],
   "source": [
    "capture_device = CaptureDevice.create(\"CWLITEXMEGA\")\n",
    "capture_device.compile(file=os.path.abspath(\"sbox_lookup.c\"))\n",
    "capture_device.flash()\n",
    "\n",
    "data = capture_device.capture(\n",
    "    number_of_traces=1000,\n",
    "    input=lambda _: list(random.randbytes(16)),\n",
    ")"
   ]
  },
  {
   "cell_type": "code",
   "execution_count": 8,
   "metadata": {},
   "outputs": [
    {
     "data": {
      "text/plain": [
       "array([[ 67,  23, 196, ...,  25,  25, 255],\n",
       "       [ 41,  26, 229, ...,  84, 247, 136],\n",
       "       [106, 102,  86, ...,  66, 175, 237],\n",
       "       ...,\n",
       "       [165, 152,  74, ..., 212, 182, 123],\n",
       "       [111,  58,  99, ..., 228, 225,  14],\n",
       "       [170, 244,  13, ...,  74, 106, 140]], dtype=uint8)"
      ]
     },
     "execution_count": 8,
     "metadata": {},
     "output_type": "execute_result"
    }
   ],
   "source": [
    "data[\"input\"]"
   ]
  },
  {
   "cell_type": "code",
   "execution_count": 5,
   "metadata": {},
   "outputs": [],
   "source": [
    "def selection_function_gen(n):\n",
    "    return lambda v,g: lascar.tools.aes.sbox[v[n] ^ g] & 0x80 == 0"
   ]
  },
  {
   "cell_type": "code",
   "execution_count": 8,
   "metadata": {},
   "outputs": [
    {
     "name": "stderr",
     "output_type": "stream",
     "text": [
      "2023-12-07 15:23:19,353 - lascar.session - INFO - Session Session: 1000 traces, 3 engines, batch_size=21451, leakage_shape=(1368,)\n",
      "INFO:lascar.session:Session Session: 1000 traces, 3 engines, batch_size=21451, leakage_shape=(1368,)\n",
      "Session |  0%||0 trc/1000 | (3 engines, batch_size=21451, leakage_shape=(1368,)) |ETA:  --:--:--\n"
     ]
    },
    {
     "name": "stderr",
     "output_type": "stream",
     "text": [
      "Session |100%||1000 trc/1000 | (3 engines, batch_size=21451, leakage_shape=(1368,)) |ETA:  00:00:00\n",
      "Session |100%||1000 trc/1000 | (3 engines, batch_size=21451, leakage_shape=(1368,)) |Time:  0:00:01\n"
     ]
    },
    {
     "data": {
      "text/plain": [
       "{'logger': <Logger lascar.session (INFO)>,\n",
       " 'container': <lascar.container.container.TraceBatchContainer at 0x7fb106424130>,\n",
       " 'leakage_shape': (1368,),\n",
       " 'value_shape': (16,),\n",
       " 'name': 'Session',\n",
       " 'engines': {'mean': <lascar.engine.engine.MeanEngine at 0x7fb1053ed120>,\n",
       "  'var': <lascar.engine.engine.VarEngine at 0x7fb1053ec790>,\n",
       "  'dpa': <lascar.engine.dpa_engine.DpaEngine at 0x7fb1053ecb50>},\n",
       " '_output_method': <lascar.output.pickle_output_method.DictOutputMethod at 0x7fb17b6b0730>,\n",
       " '_output_steps': [1000],\n",
       " '_progressbar': True,\n",
       " '_batch_size': 21451,\n",
       " '_thread_on_update': True}"
      ]
     },
     "execution_count": 8,
     "metadata": {},
     "output_type": "execute_result"
    }
   ],
   "source": [
    "#[d[\"trace\"][x] for x in range(1000) if (sbox[guess ^ d[\"input\"][:,guess_idx][x]] & 0x1) == 0]\n",
    "def selection_function(value, guess):\n",
    "    return lascar.tools.aes.sbox[value[0] ^ guess] & 0x80 == 0\n",
    "\n",
    "\n",
    "trace = lascar.TraceBatchContainer(data[\"trace\"], data[\"input\"])\n",
    "\n",
    "engine = lascar.DpaEngine(\n",
    "    selection_function=selection_function_gen(0),\n",
    "    guess_range=range(256),\n",
    ")\n",
    "\n",
    "session = lascar.Session(\n",
    "    trace,\n",
    "    engine=engine,\n",
    "    output_method=lascar.DictOutputMethod(engine),\n",
    ")\n",
    "\n",
    "asd = session.run(batch_size=\"auto\")\n",
    "asd.__dict__"
   ]
  }
 ],
 "metadata": {
  "kernelspec": {
   "display_name": "Python 3.10.7 ('chipwhisperer-td5n7f84')",
   "language": "python",
   "name": "python3"
  },
  "language_info": {
   "codemirror_mode": {
    "name": "ipython",
    "version": 3
   },
   "file_extension": ".py",
   "mimetype": "text/x-python",
   "name": "python",
   "nbconvert_exporter": "python",
   "pygments_lexer": "ipython3",
   "version": "3.10.12"
  },
  "vscode": {
   "interpreter": {
    "hash": "36760b1de54f02795c2144c8e36ca6fc5439200debad8ef46d119beb88a8f8a2"
   }
  }
 },
 "nbformat": 4,
 "nbformat_minor": 2
}
